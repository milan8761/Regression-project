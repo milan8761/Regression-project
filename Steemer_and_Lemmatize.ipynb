{
  "nbformat": 4,
  "nbformat_minor": 0,
  "metadata": {
    "colab": {
      "provenance": [],
      "authorship_tag": "ABX9TyN8yGlkSzTTj62Ln9Mx7o2n",
      "include_colab_link": true
    },
    "kernelspec": {
      "name": "python3",
      "display_name": "Python 3"
    },
    "language_info": {
      "name": "python"
    }
  },
  "cells": [
    {
      "cell_type": "markdown",
      "metadata": {
        "id": "view-in-github",
        "colab_type": "text"
      },
      "source": [
        "<a href=\"https://colab.research.google.com/github/milan8761/Regression-project/blob/main/Steemer_and_Lemmatize.ipynb\" target=\"_parent\"><img src=\"https://colab.research.google.com/assets/colab-badge.svg\" alt=\"Open In Colab\"/></a>"
      ]
    },
    {
      "cell_type": "code",
      "execution_count": 1,
      "metadata": {
        "id": "WIi3A_MmoMcb"
      },
      "outputs": [],
      "source": [
        "article_text=\"Just what is agility in the context of software engineering work? Ivar Jacobs\"\n"
      ]
    },
    {
      "cell_type": "code",
      "source": [
        "import re\n",
        "import nltk\n",
        "from nltk.tokenize import word_tokenize\n"
      ],
      "metadata": {
        "id": "jofsM03dpwcm"
      },
      "execution_count": 2,
      "outputs": []
    },
    {
      "cell_type": "code",
      "source": [
        "article_text = article_text.lower()\n",
        "article_text\n"
      ],
      "metadata": {
        "colab": {
          "base_uri": "https://localhost:8080/",
          "height": 36
        },
        "id": "h_wW37t6pyDz",
        "outputId": "e9876956-7945-4bd9-a093-af0e15e91d0e"
      },
      "execution_count": 3,
      "outputs": [
        {
          "output_type": "execute_result",
          "data": {
            "text/plain": [
              "'just what is agility in the context of software engineering work? ivar jacobs'"
            ],
            "application/vnd.google.colaboratory.intrinsic+json": {
              "type": "string"
            }
          },
          "metadata": {},
          "execution_count": 3
        }
      ]
    },
    {
      "cell_type": "code",
      "source": [
        "clean_text = re.sub(r'[^a-zA-Z\\s]', '', article_text)\n",
        "clean_text\n"
      ],
      "metadata": {
        "colab": {
          "base_uri": "https://localhost:8080/",
          "height": 36
        },
        "id": "e0xUCiV1p1O0",
        "outputId": "8084403c-78af-4ace-d6f7-b6095e14d3aa"
      },
      "execution_count": 4,
      "outputs": [
        {
          "output_type": "execute_result",
          "data": {
            "text/plain": [
              "'just what is agility in the context of software engineering work ivar jacobs'"
            ],
            "application/vnd.google.colaboratory.intrinsic+json": {
              "type": "string"
            }
          },
          "metadata": {},
          "execution_count": 4
        }
      ]
    },
    {
      "cell_type": "code",
      "source": [
        "sentence_list = nltk.sent_tokenize(article_text)\n",
        "sentence_list\n"
      ],
      "metadata": {
        "colab": {
          "base_uri": "https://localhost:8080/"
        },
        "id": "u6lDccw_p3Zs",
        "outputId": "f5693688-e802-4313-a4cc-b26322a358d3"
      },
      "execution_count": 8,
      "outputs": [
        {
          "output_type": "execute_result",
          "data": {
            "text/plain": [
              "['just what is agility in the context of software engineering work?',\n",
              " 'ivar jacobs']"
            ]
          },
          "metadata": {},
          "execution_count": 8
        }
      ]
    },
    {
      "cell_type": "code",
      "source": [
        "import nltk\n",
        "nltk.download('punkt_tab')"
      ],
      "metadata": {
        "colab": {
          "base_uri": "https://localhost:8080/"
        },
        "id": "VcTWz68Kp58Q",
        "outputId": "ea8c2227-3c34-40ea-e0e8-17205d5b8b59"
      },
      "execution_count": 7,
      "outputs": [
        {
          "output_type": "stream",
          "name": "stderr",
          "text": [
            "[nltk_data] Downloading package punkt_tab to /root/nltk_data...\n",
            "[nltk_data]   Unzipping tokenizers/punkt_tab.zip.\n"
          ]
        },
        {
          "output_type": "execute_result",
          "data": {
            "text/plain": [
              "True"
            ]
          },
          "metadata": {},
          "execution_count": 7
        }
      ]
    },
    {
      "cell_type": "code",
      "source": [
        "nltk.download('stopwords')  # Download stopwords dataset\n",
        "from nltk.corpus import stopwords\n",
        "stop_words = set(stopwords.words('english'))\n"
      ],
      "metadata": {
        "colab": {
          "base_uri": "https://localhost:8080/"
        },
        "id": "DPS2Ob3Ip8e2",
        "outputId": "e72a8550-0b72-4311-c4de-84206491c0be"
      },
      "execution_count": 9,
      "outputs": [
        {
          "output_type": "stream",
          "name": "stderr",
          "text": [
            "[nltk_data] Downloading package stopwords to /root/nltk_data...\n",
            "[nltk_data]   Unzipping corpora/stopwords.zip.\n"
          ]
        }
      ]
    },
    {
      "cell_type": "code",
      "source": [
        "word_frequencies = {}\n",
        "for word in tokens:\n",
        "    if word not in stop_words:\n",
        "        if word not in word_frequencies:\n",
        "            word_frequencies[word] = 1\n",
        "        else:\n",
        "            word_frequencies[word] += 1\n",
        "word_frequencies\n"
      ],
      "metadata": {
        "colab": {
          "base_uri": "https://localhost:8080/"
        },
        "id": "RI9BE_Dnp-yp",
        "outputId": "ae120bfa-0b7e-4013-caea-a0a758f10093"
      },
      "execution_count": 12,
      "outputs": [
        {
          "output_type": "execute_result",
          "data": {
            "text/plain": [
              "{'agility': 1,\n",
              " 'context': 1,\n",
              " 'software': 1,\n",
              " 'engineering': 1,\n",
              " 'work': 1,\n",
              " 'ivar': 1,\n",
              " 'jacobs': 1}"
            ]
          },
          "metadata": {},
          "execution_count": 12
        }
      ]
    },
    {
      "cell_type": "code",
      "source": [
        "tokens = word_tokenize(clean_text)"
      ],
      "metadata": {
        "id": "oV91vo_4razC"
      },
      "execution_count": 11,
      "outputs": []
    },
    {
      "cell_type": "code",
      "source": [
        "from collections import Counter\n",
        "dictionary = Counter(word_frequencies)\n",
        "dictionary\n"
      ],
      "metadata": {
        "colab": {
          "base_uri": "https://localhost:8080/"
        },
        "id": "XdZvz0MkqDuq",
        "outputId": "658d3b94-4831-4c9c-dc53-e427d86b9151"
      },
      "execution_count": 13,
      "outputs": [
        {
          "output_type": "execute_result",
          "data": {
            "text/plain": [
              "Counter({'agility': 1,\n",
              "         'context': 1,\n",
              "         'software': 1,\n",
              "         'engineering': 1,\n",
              "         'work': 1,\n",
              "         'ivar': 1,\n",
              "         'jacobs': 1})"
            ]
          },
          "metadata": {},
          "execution_count": 13
        }
      ]
    },
    {
      "cell_type": "code",
      "source": [
        "from nltk.stem import PorterStemmer\n",
        "from nltk.stem import LancasterStemmer\n"
      ],
      "metadata": {
        "id": "ATKhQkZaqFuT"
      },
      "execution_count": 14,
      "outputs": []
    },
    {
      "cell_type": "code",
      "source": [
        "porter = PorterStemmer()\n",
        "lancaster = LancasterStemmer()\n",
        "\n",
        "print(porter.stem(\"cats\"))\n",
        "print(lancaster.stem(\"cats\"))\n",
        "print(porter.stem(\"troubling\"))\n",
        "print(lancaster.stem(\"troubling\"))\n",
        "print(porter.stem(\"troubled\"))\n",
        "print(lancaster.stem(\"troubled\"))\n"
      ],
      "metadata": {
        "colab": {
          "base_uri": "https://localhost:8080/"
        },
        "id": "hKdPqOIiqHgv",
        "outputId": "eb8070d2-fa85-4c64-aff9-a59ffc4162f2"
      },
      "execution_count": 15,
      "outputs": [
        {
          "output_type": "stream",
          "name": "stdout",
          "text": [
            "cat\n",
            "cat\n",
            "troubl\n",
            "troubl\n",
            "troubl\n",
            "troubl\n"
          ]
        }
      ]
    },
    {
      "cell_type": "code",
      "source": [
        "word_list = [\"friend\", \"friendship\", \"friends\", \"friendships\", \"stabil\", \"destabilize\"]\n",
        "print(\"{:20}{:20}{:20}\".format(\"Word\", \"Porter Stemmer\", \"Lancaster Stemmer\"))\n",
        "for word in word_list:\n",
        "    print(\"{:20}{:20}{:20}\".format(word, porter.stem(word), lancaster.stem(word)))\n"
      ],
      "metadata": {
        "colab": {
          "base_uri": "https://localhost:8080/"
        },
        "id": "RbZqhwBeqJb7",
        "outputId": "10261514-92e8-4003-8374-04a5ae743cff"
      },
      "execution_count": 16,
      "outputs": [
        {
          "output_type": "stream",
          "name": "stdout",
          "text": [
            "Word                Porter Stemmer      Lancaster Stemmer   \n",
            "friend              friend              friend              \n",
            "friendship          friendship          friend              \n",
            "friends             friend              friend              \n",
            "friendships         friendship          friend              \n",
            "stabil              stabil              stabl               \n",
            "destabilize         destabil            dest                \n"
          ]
        }
      ]
    },
    {
      "cell_type": "code",
      "source": [
        "stem_sentence = []\n",
        "for word in tokens:\n",
        "    stem_sentence.append(porter.stem(word))\n",
        "    stem_sentence.append(\" \")\n",
        "stem_sentence\n"
      ],
      "metadata": {
        "colab": {
          "base_uri": "https://localhost:8080/"
        },
        "id": "fGD6XqUBqLfS",
        "outputId": "0bc050b3-1fae-46e2-cbee-d627057deb3d"
      },
      "execution_count": 17,
      "outputs": [
        {
          "output_type": "execute_result",
          "data": {
            "text/plain": [
              "['just',\n",
              " ' ',\n",
              " 'what',\n",
              " ' ',\n",
              " 'is',\n",
              " ' ',\n",
              " 'agil',\n",
              " ' ',\n",
              " 'in',\n",
              " ' ',\n",
              " 'the',\n",
              " ' ',\n",
              " 'context',\n",
              " ' ',\n",
              " 'of',\n",
              " ' ',\n",
              " 'softwar',\n",
              " ' ',\n",
              " 'engin',\n",
              " ' ',\n",
              " 'work',\n",
              " ' ',\n",
              " 'ivar',\n",
              " ' ',\n",
              " 'jacob',\n",
              " ' ']"
            ]
          },
          "metadata": {},
          "execution_count": 17
        }
      ]
    },
    {
      "cell_type": "code",
      "source": [
        "from nltk.stem import WordNetLemmatizer\n",
        "lemmatizer = WordNetLemmatizer()\n"
      ],
      "metadata": {
        "id": "kmn6zv0lqN9e"
      },
      "execution_count": 18,
      "outputs": []
    },
    {
      "cell_type": "code",
      "source": [
        "import nltk\n",
        "nltk.download('wordnet')\n"
      ],
      "metadata": {
        "colab": {
          "base_uri": "https://localhost:8080/"
        },
        "id": "oBW9ZDI_qPoD",
        "outputId": "9954a41b-ed8c-41de-e960-51d2282a8c50"
      },
      "execution_count": 21,
      "outputs": [
        {
          "output_type": "stream",
          "name": "stderr",
          "text": [
            "[nltk_data] Downloading package wordnet to /root/nltk_data...\n"
          ]
        },
        {
          "output_type": "execute_result",
          "data": {
            "text/plain": [
              "True"
            ]
          },
          "metadata": {},
          "execution_count": 21
        }
      ]
    },
    {
      "cell_type": "code",
      "source": [
        "def lemmatize_word(word):\n",
        "    return lemmatizer.lemmatize(word)\n"
      ],
      "metadata": {
        "id": "O6uwko-RqRcG"
      },
      "execution_count": 19,
      "outputs": []
    },
    {
      "cell_type": "code",
      "source": [
        "word_list = [\"word1\", \"word2\", \"word3\"]\n",
        "print(\"{:20}{:20}\".format(\"Word\", \"Lemma\"))\n",
        "for word in word_list:\n",
        "    print(\"{:20}{:20}\".format(word, lemmatize_word(word)))\n"
      ],
      "metadata": {
        "colab": {
          "base_uri": "https://localhost:8080/"
        },
        "id": "_RNpu_6iqTIu",
        "outputId": "19ad61f9-c1e1-4f9e-cc42-6aceab56d3a3"
      },
      "execution_count": 22,
      "outputs": [
        {
          "output_type": "stream",
          "name": "stdout",
          "text": [
            "Word                Lemma               \n",
            "word1               word1               \n",
            "word2               word2               \n",
            "word3               word3               \n"
          ]
        }
      ]
    }
  ]
}